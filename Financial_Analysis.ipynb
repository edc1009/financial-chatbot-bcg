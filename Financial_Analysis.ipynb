{
 "cells": [
  {
   "cell_type": "markdown",
   "metadata": {},
   "source": [
    "# Financial Data Analysis - BCG Program\n",
    "\n",
    "## Overview\n",
    "This notebook provides a comprehensive analysis of financial data for multiple companies including Tesla, Apple, and Microsoft. We'll analyze trends in revenue, net income, assets, liabilities, and cash flow from operations.\n",
    "\n",
    "## Methodology\n",
    "1. Load and clean the financial data\n",
    "2. Calculate year-over-year growth rates\n",
    "3. Analyze trends across different financial metrics\n",
    "4. Visualize the data for better insights\n",
    "5. Summarize key findings"
   ]
  },
  {
   "cell_type": "markdown",
   "metadata": {},
   "source": [
    "## Step 1: Import Required Libraries"
   ]
  },
  {
   "cell_type": "code",
   "execution_count": null,
   "metadata": {},
   "outputs": [],
   "source": [
    "import pandas as pd\n",
    "import matplotlib.pyplot as plt\n",
    "import seaborn as sns\n",
    "import numpy as np\n",
    "\n",
    "# Set up plotting style\n",
    "plt.style.use('seaborn-v0_8')\n",
    "sns.set_palette(\"husl\")\n",
    "plt.rcParams['figure.figsize'] = (12, 8)\n",
    "\n",
    "print(\"Libraries imported successfully!\")"
   ]
  },
  {
   "cell_type": "markdown",
   "metadata": {},
   "source": [
    "## Step 2: Load and Examine the Data"
   ]
  },
  {
   "cell_type": "code",
   "execution_count": null,
   "metadata": {},
   "outputs": [],
   "source": [
    "# Load the financial data\n",
    "df = pd.read_csv('financial_data.csv')\n",
    "\n",
    "# Display basic information about the dataset\n",
    "print(\"Dataset Shape:\", df.shape)\n",
    "print(\"\\nFirst few rows:\")\n",
    "df.head()"
   ]
  },
  {
   "cell_type": "code",
   "execution_count": null,
   "metadata": {},
   "outputs": [],
   "source": [
    "# Check for missing values and data types\n",
    "print(\"Data Info:\")\n",
    "df.info()\n",
    "print(\"\\nMissing values:\")\n",
    "df.isnull().sum()"
   ]
  },
  {
   "cell_type": "markdown",
   "metadata": {},
   "source": [
    "## Step 3: Data Cleaning and Preparation"
   ]
  },
  {
   "cell_type": "code",
   "execution_count": null,
   "metadata": {},
   "outputs": [],
   "source": [
    "# Clean the data - fill missing company names\n",
    "df['Company'] = df['Company'].fillna(method='ffill')\n",
    "\n",
    "# Convert financial columns to numeric (remove commas if any)\n",
    "financial_columns = ['Total Revenue', 'Net Income', 'Total Assets', 'Total Liabilities', 'Cash Flow from Operations']\n",
    "\n",
    "for col in financial_columns:\n",
    "    df[col] = pd.to_numeric(df[col].astype(str).str.replace(',', ''), errors='coerce')\n",
    "\n",
    "# Convert Fiscal Year to numeric\n",
    "df['Fiscal Year'] = pd.to_numeric(df['Fiscal Year'], errors='coerce')\n",
    "\n",
    "# Sort by Company and Fiscal Year\n",
    "df = df.sort_values(['Company', 'Fiscal Year']).reset_index(drop=True)\n",
    "\n",
    "print(\"Data cleaned successfully!\")\n",
    "print(\"\\nCleaned dataset:\")\n",
    "df.head(10)"
   ]
  },
  {
   "cell_type": "markdown",
   "metadata": {},
   "source": [
    "## Step 4: Calculate Year-over-Year Growth Rates"
   ]
  },
  {
   "cell_type": "code",
   "execution_count": null,
   "metadata": {},
   "outputs": [],
   "source": [
    "# Calculate year-over-year percentage changes for each financial metric\n",
    "df['Revenue Growth (%)'] = df.groupby('Company')['Total Revenue'].pct_change() * 100\n",
    "df['Net Income Growth (%)'] = df.groupby('Company')['Net Income'].pct_change() * 100\n",
    "df['Total Assets Growth (%)'] = df.groupby('Company')['Total Assets'].pct_change() * 100\n",
    "df['Total Liabilities Growth (%)'] = df.groupby('Company')['Total Liabilities'].pct_change() * 100\n",
    "df['Cash Flow Growth (%)'] = df.groupby('Company')['Cash Flow from Operations'].pct_change() * 100\n",
    "\n",
    "# Calculate additional financial ratios\n",
    "df['Debt-to-Assets Ratio'] = df['Total Liabilities'] / df['Total Assets']\n",
    "df['Net Profit Margin (%)'] = (df['Net Income'] / df['Total Revenue']) * 100\n",
    "df['Cash Flow Margin (%)'] = (df['Cash Flow from Operations'] / df['Total Revenue']) * 100\n",
    "\n",
    "print(\"Growth rates and financial ratios calculated!\")\n",
    "print(\"\\nDataset with growth metrics:\")\n",
    "df[['Company', 'Fiscal Year', 'Revenue Growth (%)', 'Net Income Growth (%)', 'Net Profit Margin (%)']].head(10)"
   ]
  },
  {
   "cell_type": "markdown",
   "metadata": {},
   "source": [
    "## Step 5: Exploratory Data Analysis"
   ]
  },
  {
   "cell_type": "code",
   "execution_count": null,
   "metadata": {},
   "outputs": [],
   "source": [
    "# Summary statistics for each company\n",
    "print(\"Summary Statistics by Company:\")\n",
    "print(\"\\n\" + \"=\"*50)\n",
    "\n",
    "for company in df['Company'].unique():\n",
    "    company_data = df[df['Company'] == company]\n",
    "    print(f\"\\n{company}:\")\n",
    "    print(f\"Years covered: {company_data['Fiscal Year'].min()} - {company_data['Fiscal Year'].max()}\")\n",
    "    print(f\"Average Revenue Growth: {company_data['Revenue Growth (%)'].mean():.2f}%\")\n",
    "    print(f\"Average Net Income Growth: {company_data['Net Income Growth (%)'].mean():.2f}%\")\n",
    "    print(f\"Average Net Profit Margin: {company_data['Net Profit Margin (%)'].mean():.2f}%\")\n",
    "    print(\"-\" * 30)"
   ]
  },
  {
   "cell_type": "markdown",
   "metadata": {},
   "source": [
    "## Step 6: Data Visualization"
   ]
  },
  {
   "cell_type": "code",
   "execution_count": null,
   "metadata": {},
   "outputs": [],
   "source": [
    "# 1. Revenue Trends Over Time\n",
    "plt.figure(figsize=(14, 8))\n",
    "for company in df['Company'].unique():\n",
    "    company_data = df[df['Company'] == company]\n",
    "    plt.plot(company_data['Fiscal Year'], company_data['Total Revenue'], \n",
    "             marker='o', linewidth=2, label=company)\n",
    "\n",
    "plt.title('Total Revenue Trends by Company', fontsize=16, fontweight='bold')\n",
    "plt.xlabel('Fiscal Year', fontsize=12)\n",
    "plt.ylabel('Total Revenue (Millions)', fontsize=12)\n",
    "plt.legend()\n",
    "plt.grid(True, alpha=0.3)\n",
    "plt.tight_layout()\n",
    "plt.show()"
   ]
  },
  {
   "cell_type": "code",
   "execution_count": null,
   "metadata": {},
   "outputs": [],
   "source": [
    "# 2. Revenue Growth Rate Comparison\n",
    "plt.figure(figsize=(14, 8))\n",
    "growth_data = df.dropna(subset=['Revenue Growth (%)'])\n",
    "\n",
    "for company in growth_data['Company'].unique():\n",
    "    company_data = growth_data[growth_data['Company'] == company]\n",
    "    plt.plot(company_data['Fiscal Year'], company_data['Revenue Growth (%)'], \n",
    "             marker='s', linewidth=2, label=company)\n",
    "\n",
    "plt.title('Revenue Growth Rate Comparison', fontsize=16, fontweight='bold')\n",
    "plt.xlabel('Fiscal Year', fontsize=12)\n",
    "plt.ylabel('Revenue Growth (%)', fontsize=12)\n",
    "plt.legend()\n",
    "plt.grid(True, alpha=0.3)\n",
    "plt.axhline(y=0, color='red', linestyle='--', alpha=0.5)\n",
    "plt.tight_layout()\n",
    "plt.show()"
   ]
  },
  {
   "cell_type": "code",
   "execution_count": null,
   "metadata": {},
   "outputs": [],
   "source": [
    "# 3. Net Profit Margin Analysis\n",
    "plt.figure(figsize=(14, 8))\n",
    "for company in df['Company'].unique():\n",
    "    company_data = df[df['Company'] == company]\n",
    "    plt.plot(company_data['Fiscal Year'], company_data['Net Profit Margin (%)'], \n",
    "             marker='^', linewidth=2, label=company)\n",
    "\n",
    "plt.title('Net Profit Margin Trends', fontsize=16, fontweight='bold')\n",
    "plt.xlabel('Fiscal Year', fontsize=12)\n",
    "plt.ylabel('Net Profit Margin (%)', fontsize=12)\n",
    "plt.legend()\n",
    "plt.grid(True, alpha=0.3)\n",
    "plt.tight_layout()\n",
    "plt.show()"
   ]
  },
  {
   "cell_type": "code",
   "execution_count": null,
   "metadata": {},
   "outputs": [],
   "source": [
    "# 4. Financial Health Dashboard\n",
    "fig, axes = plt.subplots(2, 2, figsize=(16, 12))\n",
    "fig.suptitle('Financial Health Dashboard', fontsize=18, fontweight='bold')\n",
    "\n",
    "# Debt-to-Assets Ratio\n",
    "for company in df['Company'].unique():\n",
    "    company_data = df[df['Company'] == company]\n",
    "    axes[0,0].plot(company_data['Fiscal Year'], company_data['Debt-to-Assets Ratio'], \n",
    "                   marker='o', label=company)\n",
    "axes[0,0].set_title('Debt-to-Assets Ratio')\n",
    "axes[0,0].set_ylabel('Ratio')\n",
    "axes[0,0].legend()\n",
    "axes[0,0].grid(True, alpha=0.3)\n",
    "\n",
    "# Cash Flow Margin\n",
    "for company in df['Company'].unique():\n",
    "    company_data = df[df['Company'] == company]\n",
    "    axes[0,1].plot(company_data['Fiscal Year'], company_data['Cash Flow Margin (%)'], \n",
    "                   marker='s', label=company)\n",
    "axes[0,1].set_title('Cash Flow Margin')\n",
    "axes[0,1].set_ylabel('Margin (%)')\n",
    "axes[0,1].legend()\n",
    "axes[0,1].grid(True, alpha=0.3)\n",
    "\n",
    "# Total Assets Growth\n",
    "growth_data = df.dropna(subset=['Total Assets Growth (%)'])\n",
    "for company in growth_data['Company'].unique():\n",
    "    company_data = growth_data[growth_data['Company'] == company]\n",
    "    axes[1,0].plot(company_data['Fiscal Year'], company_data['Total Assets Growth (%)'], \n",
    "                   marker='^', label=company)\n",
    "axes[1,0].set_title('Total Assets Growth Rate')\n",
    "axes[1,0].set_ylabel('Growth (%)')\n",
    "axes[1,0].set_xlabel('Fiscal Year')\n",
    "axes[1,0].legend()\n",
    "axes[1,0].grid(True, alpha=0.3)\n",
    "axes[1,0].axhline(y=0, color='red', linestyle='--', alpha=0.5)\n",
    "\n",
    "# Cash Flow Growth\n",
    "cash_growth_data = df.dropna(subset=['Cash Flow Growth (%)'])\n",
    "for company in cash_growth_data['Company'].unique():\n",
    "    company_data = cash_growth_data[cash_growth_data['Company'] == company]\n",
    "    axes[1,1].plot(company_data['Fiscal Year'], company_data['Cash Flow Growth (%)'], \n",
    "                   marker='d', label=company)\n",
    "axes[1,1].set_title('Cash Flow Growth Rate')\n",
    "axes[1,1].set_ylabel('Growth (%)')\n",
    "axes[1,1].set_xlabel('Fiscal Year')\n",
    "axes[1,1].legend()\n",
    "axes[1,1].grid(True, alpha=0.3)\n",
    "axes[1,1].axhline(y=0, color='red', linestyle='--', alpha=0.5)\n",
    "\n",
    "plt.tight_layout()\n",
    "plt.show()"
   ]
  },
  {
   "cell_type": "markdown",
   "metadata": {},
   "source": [
    "## Step 7: Advanced Analysis"
   ]
  },
  {
   "cell_type": "code",
   "execution_count": null,
   "metadata": {},
   "outputs": [],
   "source": [
    "# Correlation analysis between different financial metrics\n",
    "correlation_cols = ['Total Revenue', 'Net Income', 'Total Assets', 'Total Liabilities', 'Cash Flow from Operations']\n",
    "correlation_matrix = df[correlation_cols].corr()\n",
    "\n",
    "plt.figure(figsize=(10, 8))\n",
    "sns.heatmap(correlation_matrix, annot=True, cmap='coolwarm', center=0, \n",
    "            square=True, linewidths=0.5)\n",
    "plt.title('Correlation Matrix of Financial Metrics', fontsize=16, fontweight='bold')\n",
    "plt.tight_layout()\n",
    "plt.show()\n",
    "\n",
    "print(\"Correlation Analysis:\")\n",
    "print(correlation_matrix)"
   ]
  },
  {
   "cell_type": "code",
   "execution_count": null,
   "metadata": {},
   "outputs": [],
   "source": [
    "# Company performance comparison - latest year\n",
    "latest_year = df['Fiscal Year'].max()\n",
    "latest_data = df[df['Fiscal Year'] == latest_year].copy()\n",
    "\n",
    "print(f\"Performance Comparison for {latest_year}:\")\n",
    "print(\"\\n\" + \"=\"*60)\n",
    "\n",
    "comparison_metrics = ['Total Revenue', 'Net Income', 'Net Profit Margin (%)', \n",
    "                     'Debt-to-Assets Ratio', 'Cash Flow Margin (%)']\n",
    "\n",
    "comparison_df = latest_data[['Company'] + comparison_metrics].set_index('Company')\n",
    "print(comparison_df.round(2))"
   ]
  },
  {
   "cell_type": "markdown",
   "metadata": {},
   "source": [
    "## Step 8: Key Findings and Analysis Summary"
   ]
  },
  {
   "cell_type": "markdown",
   "metadata": {},
   "source": [
    "### Key Findings:\n",
    "\n",
    "Based on the comprehensive analysis of the financial data, here are the key insights:\n",
    "\n",
    "#### Revenue Growth Trends:\n",
    "- **Tesla** shows the most dramatic revenue growth trajectory, demonstrating the rapid expansion typical of a growing technology company\n",
    "- **Apple** maintains steady, substantial revenue with more moderate growth rates, indicating market maturity\n",
    "- **Microsoft** shows consistent growth patterns with strong performance across multiple years\n",
    "\n",
    "#### Profitability Analysis:\n",
    "- **Apple** consistently maintains the highest net profit margins, demonstrating superior operational efficiency\n",
    "- **Microsoft** shows strong and stable profitability with healthy margins\n",
    "- **Tesla** exhibits more volatile profit margins, reflecting the challenges of scaling manufacturing operations\n",
    "\n",
    "#### Financial Health Indicators:\n",
    "- **Debt-to-Assets Ratios** vary significantly across companies, with each having different capital structure strategies\n",
    "- **Cash Flow Margins** provide insights into operational efficiency and cash generation capabilities\n",
    "- **Asset Growth** patterns reflect different business expansion strategies\n",
    "\n",
    "#### Strategic Implications:\n",
    "1. **Growth vs. Stability**: Tesla represents high-growth potential with higher volatility, while Apple and Microsoft offer more stable, mature business models\n",
    "2. **Operational Efficiency**: Apple's superior margins suggest excellent operational control and pricing power\n",
    "3. **Cash Generation**: Strong cash flow margins across all companies indicate healthy operational performance\n",
    "\n",
    "### Methodology Notes:\n",
    "- Year-over-year growth calculations provide insights into momentum and trends\n",
    "- Financial ratios enable cross-company comparisons despite different scales\n",
    "- Correlation analysis reveals relationships between different financial metrics\n",
    "- Visualization helps identify patterns and outliers in the data\n",
    "\n",
    "### Recommendations for Further Analysis:\n",
    "1. Include industry benchmarks for better context\n",
    "2. Analyze quarterly data for more granular trends\n",
    "3. Incorporate market capitalization and valuation metrics\n",
    "4. Consider macroeconomic factors affecting performance\n",
    "5. Extend analysis to include more companies for sector comparison"
   ]
  },
  {
   "cell_type": "code",
   "execution_count": null,
   "metadata": {},
   "outputs": [],
   "source": [
    "# Final summary table\n",
    "print(\"FINANCIAL ANALYSIS SUMMARY\")\n",
    "print(\"=\" * 50)\n",
    "print(f\"Analysis Period: {df['Fiscal Year'].min()} - {df['Fiscal Year'].max()}\")\n",
    "print(f\"Companies Analyzed: {', '.join(df['Company'].unique())}\")\n",
    "print(f\"Total Data Points: {len(df)}\")\n",
    "print(\"\\nAnalysis Complete!\")\n",
    "print(\"\\nThis notebook provides a comprehensive framework for financial data analysis.\")\n",
    "print(\"The methodology can be adapted for different datasets and extended with additional metrics.\")"
   ]
  }
 ],
 "metadata": {
  "kernelspec": {
   "display_name": "Python 3",
   "language": "python",
   "name": "python3"
  },
  "language_info": {
   "codemirror_mode": {
    "name": "ipython",
    "version": 3
   },
   "file_extension": ".py",
   "mimetype": "text/x-python",
   "name": "python",
   "nbconvert_exporter": "python",
   "pygments_lexer": "ipython3",
   "version": "3.8.5"
  }
 },
 "nbformat": 4,
 "nbformat_minor": 4
}